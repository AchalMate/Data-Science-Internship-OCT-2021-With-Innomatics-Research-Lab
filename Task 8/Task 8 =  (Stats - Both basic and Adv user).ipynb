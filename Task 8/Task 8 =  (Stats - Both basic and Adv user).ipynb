{
 "cells": [
  {
   "cell_type": "markdown",
   "metadata": {},
   "source": [
    "# Task 8 =  (Stats - Both basic and Adv user)of Data Science Internship with Innomatics Research Labs \n",
    "### Name= Achal Mate"
   ]
  },
  {
   "cell_type": "markdown",
   "metadata": {},
   "source": [
    "### Task 1:= Binomial Distribution I"
   ]
  },
  {
   "cell_type": "code",
   "execution_count": 81,
   "metadata": {},
   "outputs": [
    {
     "name": "stdout",
     "output_type": "stream",
     "text": [
      "1.09 1.0\n"
     ]
    },
    {
     "data": {
      "text/plain": [
       "0.696"
      ]
     },
     "execution_count": 81,
     "metadata": {},
     "output_type": "execute_result"
    }
   ],
   "source": [
    "from math import factorial as f\n",
    "import math\n",
    "n = 6\n",
    "r = 3\n",
    "boysratrio,girlsratio =list(map(float, input().split(\" \")))\n",
    "p = (boysratrio/(boysratrio+girlsratio))\n",
    "q=1-p\n",
    "def nCr(n,r):\n",
    "    return f(n)/(f(r)*f(n-r));\n",
    "ans = list()\n",
    "def Binomial(n,r,p):\n",
    "    for i in range(3,7):\n",
    "        ans.append(nCr(n,i)*pow(p,i)*pow(q,6-i))\n",
    "        \n",
    "Binomial(n,r,p)\n",
    "round(sum(ans),3)"
   ]
  },
  {
   "cell_type": "markdown",
   "metadata": {},
   "source": [
    "### Task 2:= Binomial Distribution II"
   ]
  },
  {
   "cell_type": "code",
   "execution_count": 103,
   "metadata": {},
   "outputs": [
    {
     "name": "stdout",
     "output_type": "stream",
     "text": [
      "12 10\n",
      "0.891\n",
      "0.342\n"
     ]
    }
   ],
   "source": [
    "from math import factorial as f\n",
    "import math\n",
    "\n",
    "def nCr(n, x):\n",
    "    return f(n) / (f(x) * f(n-x))\n",
    "\n",
    "def Binomial(x, n, p):\n",
    "    return nCr(n, x) * pow(p,x) * pow((1-p),(n-x))\n",
    "\n",
    "l, n = list(map(float, input().split(\" \")))\n",
    "p = l / 100\n",
    "print(round(sum([Binomial(i, n, p) for i in range(0, 3)]), 3))\n",
    "print(round(sum([Binomial(i, n, p) for i in range(2, 11)]), 3))\n"
   ]
  },
  {
   "cell_type": "markdown",
   "metadata": {},
   "source": [
    "### Task 3 :=Normal Distribution I\n",
    "\n"
   ]
  },
  {
   "cell_type": "code",
   "execution_count": 117,
   "metadata": {},
   "outputs": [
    {
     "name": "stdout",
     "output_type": "stream",
     "text": [
      "20 2\n",
      "19.5\n",
      "20 22\n",
      "0.401\n",
      "0.341\n"
     ]
    }
   ],
   "source": [
    "import math\n",
    "mean,std = map(int,input().split(\" \"))\n",
    "check1 = float(input())\n",
    "check12,check13 = map(float,input().split(\" \"))\n",
    "\n",
    "def normal_dist(mean,std,check):\n",
    "    p = 0.5*(1 + math.erf((check-mean)/(std*math.sqrt(2.0))));\n",
    "    return p;\n",
    "\n",
    "    \n",
    "p1 = normal_dist(mean,std,check1);\n",
    "p2 = normal_dist(mean,std,check13) - normal_dist(mean,std,check12);\n",
    "    \n",
    "print(round(p1,3))\n",
    "print(round(p2,3))    "
   ]
  },
  {
   "cell_type": "markdown",
   "metadata": {},
   "source": [
    "### Task 4 :=Normal Distribution II"
   ]
  },
  {
   "cell_type": "code",
   "execution_count": 1,
   "metadata": {},
   "outputs": [
    {
     "name": "stdout",
     "output_type": "stream",
     "text": [
      "70 10\n",
      "80\n",
      "60\n",
      "15.87\n",
      "84.13\n",
      "15.87\n"
     ]
    }
   ],
   "source": [
    "import math\n",
    "mean,std = map(int,input().split(\" \"))\n",
    "check1 = int(input())\n",
    "check2 = int(input())\n",
    "def normal_dist(mean,std,check):\n",
    "    p = 0.5*(1 + math.erf((check-mean)/(std*math.sqrt(2.0))));\n",
    "    return p*100;\n",
    "\n",
    "p1 = 100- normal_dist(mean,std,check1)\n",
    "p2 = 100- normal_dist(mean,std,check2)\n",
    "p3= normal_dist(mean,std,check2);\n",
    "print(round(p1,2))\n",
    "print(round(p2,2))\n",
    "print(round(p3,2))"
   ]
  },
  {
   "cell_type": "markdown",
   "metadata": {},
   "source": [
    "### Task 5:= The Central Limit Theorem I\n",
    "\n"
   ]
  },
  {
   "cell_type": "code",
   "execution_count": 2,
   "metadata": {},
   "outputs": [
    {
     "name": "stdout",
     "output_type": "stream",
     "text": [
      "9800\n",
      "48\n",
      "205\n",
      "15\n",
      "0.3502\n"
     ]
    }
   ],
   "source": [
    "# Enter your code here. Read input from STDIN. Print output to STDOUT\n",
    "import math\n",
    "X =int(input())\n",
    "n =int(input())\n",
    "mean =int(input())\n",
    "std = int(input())\n",
    "\n",
    "def normal_dist(mean,std,check):\n",
    "    p = 0.5*(1 + math.erf((check-mean)/(std*math.sqrt(2.0))));\n",
    "    return p;\n",
    "\n",
    "u = n * mean\n",
    "s = math.sqrt(n) * std\n",
    "\n",
    "p3= normal_dist(u,s,X)\n",
    "print(round(p3,4))"
   ]
  },
  {
   "cell_type": "markdown",
   "metadata": {},
   "source": [
    "### Task 6 =The Central Limit Theorem II"
   ]
  },
  {
   "cell_type": "code",
   "execution_count": 3,
   "metadata": {},
   "outputs": [
    {
     "name": "stdout",
     "output_type": "stream",
     "text": [
      "250\n",
      "100\n",
      "2.4\n",
      "2.0\n",
      "0.6915\n"
     ]
    }
   ],
   "source": [
    "import math\n",
    "X =int(input())\n",
    "n =int(input())\n",
    "mean =float(input())\n",
    "std = float(input())\n",
    "\n",
    "def normal_dist(mean,std,check):\n",
    "    p = 0.5*(1 + math.erf((check-mean)/(std*math.sqrt(2.0))));\n",
    "    return p;\n",
    "\n",
    "u = n * mean\n",
    "s = math.sqrt(n) * std\n",
    "\n",
    "p3= normal_dist(u,s,X)\n",
    "print(round(p3,4))"
   ]
  },
  {
   "cell_type": "markdown",
   "metadata": {},
   "source": [
    "### Task 7 :=The Central Limit Theorem II"
   ]
  },
  {
   "cell_type": "code",
   "execution_count": 5,
   "metadata": {},
   "outputs": [
    {
     "name": "stdout",
     "output_type": "stream",
     "text": [
      "100\n",
      "500\n",
      "80\n",
      "0.95\n",
      "1.96\n",
      "484.32\n",
      "515.68\n"
     ]
    }
   ],
   "source": [
    "import math\n",
    "n =int(input())\n",
    "mean =float(input())\n",
    "std = float(input())\n",
    "X =float(input())\n",
    "Zscore =float(input())\n",
    "marginOfError = Zscore * std/math.sqrt(n);\n",
    "print(round((mean-marginOfError),2))\n",
    "print(round((mean + marginOfError),2))\n",
    "    "
   ]
  },
  {
   "cell_type": "markdown",
   "metadata": {},
   "source": [
    "### Task 8 :=  Pearson Correlation Coefficient I\n",
    "\n"
   ]
  },
  {
   "cell_type": "code",
   "execution_count": 4,
   "metadata": {},
   "outputs": [
    {
     "name": "stdout",
     "output_type": "stream",
     "text": [
      "10\n",
      "10 9.8 8 7.8 7.7 7 6 5 4 2 \n",
      "200 44 32 24 22 17 15 12 8 4\n",
      "0.612\n"
     ]
    }
   ],
   "source": [
    "n = int(input())\n",
    "X = list(map(float,input().strip().split()))\n",
    "Y = list(map(float,input().strip().split()))\n",
    "ux =sum(X)/n\n",
    "uy = sum(Y)/n\n",
    "\n",
    "stdv_x = (sum([(i - ux)**2 for i in X]) / n)**0.5\n",
    "stdv_y = (sum([(i - uy)**2 for i in Y]) / n)**0.5\n",
    "\n",
    "\n",
    "covariance = sum([(X[i] - ux) * (Y[i] - uy) for i in range(n)])\n",
    "\n",
    "correlation_coefficient = covariance / (n * stdv_x * stdv_y)\n",
    "\n",
    "print(round(correlation_coefficient,3))"
   ]
  },
  {
   "cell_type": "markdown",
   "metadata": {},
   "source": [
    "### Task 9 := Least Square Regression Line"
   ]
  },
  {
   "cell_type": "code",
   "execution_count": 1,
   "metadata": {},
   "outputs": [
    {
     "name": "stdout",
     "output_type": "stream",
     "text": [
      "95 85\n",
      "85 95\n",
      "80 70\n",
      "70 65\n",
      "60 70\n",
      "78.288\n"
     ]
    }
   ],
   "source": [
    "from statistics import mean\n",
    "from operator import itemgetter\n",
    "   \n",
    "def lr(ar,p):\n",
    "    x = list( map(itemgetter(0),ar))\n",
    "    y = list( map(itemgetter(1),ar))\n",
    "    xy = list(map(lambda a,b: a*b, x,y))\n",
    "    x2 = list(map(lambda a: a**2,x))\n",
    "    m = (mean(x)*mean(y) - mean(xy))/(((mean(x))**2) - mean(x2))\n",
    "    c = mean(y) - m*mean(x)\n",
    "    result = m*p + c\n",
    "    return result\n",
    "\n",
    "ar = []\n",
    "for i in range(5):\n",
    "    a = list(map(int, input().split()))\n",
    "    ar.append(a)\n",
    "p = 80\n",
    "print(format(lr(ar,p),'.3f'))"
   ]
  },
  {
   "cell_type": "markdown",
   "metadata": {},
   "source": [
    "### Task 10  Multiple Linear Regression\n",
    "\n",
    "\n"
   ]
  },
  {
   "cell_type": "code",
   "execution_count": 3,
   "metadata": {},
   "outputs": [
    {
     "name": "stdout",
     "output_type": "stream",
     "text": [
      "2 7\n",
      "0.18 0.89 109.85\n",
      "1.0 0.26 155.72\n",
      "0.92 0.11 137.66\n",
      "0.07 0.37 76.17\n",
      "0.85 0.16 139.75\n",
      "0.99 0.41 162.6\n",
      "0.87 0.47 151.77\n",
      "4\n",
      "0.49 0.18\n",
      "0.57 0.83\n",
      "0.56 0.64\n",
      "0.76 0.18\n",
      "105.21\n",
      "142.67\n",
      "132.94\n",
      "129.7\n"
     ]
    }
   ],
   "source": [
    "# Enter your code here. Read input from STDIN. Print output to STDOUT\n",
    "\n",
    "from sklearn import linear_model\n",
    "\n",
    "def solve(y, x, x_pred):\n",
    "  lm = linear_model.LinearRegression()\n",
    "  lm.fit(x, y)\n",
    "  y_pred = lm.predict(x_pred)\n",
    "  return y_pred\n",
    "\n",
    "def main():\n",
    "  m, n = map(int, input().strip().split())\n",
    "  y = []; x = []; x_pred = []\n",
    "  for _ in range(n):\n",
    "    *features, y_val = map(float, input().strip().split())\n",
    "    x.append(features)\n",
    "    y.append(y_val)\n",
    "\n",
    "  for _ in range(int(input())):\n",
    "    features = list(map(float, input().strip().split()))\n",
    "    x_pred.append(features)\n",
    "  \n",
    "  answer = solve(y, x, x_pred)\n",
    "  for num in answer:\n",
    "    print(round(num, 2))\n",
    "\n",
    "if __name__ == \"__main__\":\n",
    "  main()"
   ]
  },
  {
   "cell_type": "code",
   "execution_count": null,
   "metadata": {},
   "outputs": [],
   "source": []
  }
 ],
 "metadata": {
  "kernelspec": {
   "display_name": "Python 3",
   "language": "python",
   "name": "python3"
  },
  "language_info": {
   "codemirror_mode": {
    "name": "ipython",
    "version": 3
   },
   "file_extension": ".py",
   "mimetype": "text/x-python",
   "name": "python",
   "nbconvert_exporter": "python",
   "pygments_lexer": "ipython3",
   "version": "3.8.5"
  }
 },
 "nbformat": 4,
 "nbformat_minor": 4
}
