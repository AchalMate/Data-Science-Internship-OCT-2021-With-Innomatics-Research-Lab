{
 "cells": [
  {
   "cell_type": "markdown",
   "metadata": {},
   "source": [
    "# Task 1 of Data Science Internship with Innomatics Research Labs\n",
    "## Task = Given the List of First N Natural Numbers Find out the Missing Number as well as repeated Number\n",
    "### Name :- Achal Rajesh Mate"
   ]
  },
  {
   "cell_type": "code",
   "execution_count": 1,
   "metadata": {},
   "outputs": [],
   "source": [
    "Given_list = [8,9,1,6,4,3,10,1,2,7] # Given List of n natural numbers"
   ]
  },
  {
   "cell_type": "code",
   "execution_count": 2,
   "metadata": {},
   "outputs": [],
   "source": [
    "def check_repeated_missing_value(Given_list): # function to find or check the repeated and missing value\n",
    "    remove_repeat = [] # create a empty list\n",
    "    for i in Given_list: #iterate all the values in given list\n",
    "        if i not in remove_repeat: # check whether it is present in newly created Empty list\n",
    "            remove_repeat.append(i) # if not add the value in empty list\n",
    "        else:\n",
    "            repeated = i # the actual value which is repeated\n",
    "    n = len(remove_repeat)+1 # Finding the total natural number (+1 is done because 1 value is missing)\n",
    "    for i in range(1,n+1): # check the value form 1 to the n natural number\n",
    "        if i  not in remove_repeat: #Check the missing value\n",
    "            missing = i  # actual Missing value\n",
    "    print(\"Given List is \",Given_list) # print given list\n",
    "    print(\"Repeated Value is =\",repeated) # print Repeated value\n",
    "    print(\"Missing Value is = \",missing) # print Missing Value\n",
    "    "
   ]
  },
  {
   "cell_type": "code",
   "execution_count": 3,
   "metadata": {},
   "outputs": [
    {
     "name": "stdout",
     "output_type": "stream",
     "text": [
      "Given List is  [8, 9, 1, 6, 4, 3, 10, 1, 2, 7]\n",
      "Repeated Value is = 1\n",
      "Missing Value is =  5\n"
     ]
    }
   ],
   "source": [
    "check_repeated_missing_value(Given_list)"
   ]
  },
  {
   "cell_type": "code",
   "execution_count": null,
   "metadata": {},
   "outputs": [],
   "source": []
  }
 ],
 "metadata": {
  "kernelspec": {
   "display_name": "Python 3",
   "language": "python",
   "name": "python3"
  },
  "language_info": {
   "codemirror_mode": {
    "name": "ipython",
    "version": 3
   },
   "file_extension": ".py",
   "mimetype": "text/x-python",
   "name": "python",
   "nbconvert_exporter": "python",
   "pygments_lexer": "ipython3",
   "version": "3.8.5"
  }
 },
 "nbformat": 4,
 "nbformat_minor": 4
}
