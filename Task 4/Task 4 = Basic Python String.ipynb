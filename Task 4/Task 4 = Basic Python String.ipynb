{
 "cells": [
  {
   "cell_type": "markdown",
   "metadata": {},
   "source": [
    "# Task 4 = (Basic Python String)of Data Science Internship with Innomatics Research Labs\n",
    "### Name = Achal Mate"
   ]
  },
  {
   "cell_type": "markdown",
   "metadata": {},
   "source": [
    "### Task 1= sWAP cASE"
   ]
  },
  {
   "cell_type": "code",
   "execution_count": 45,
   "metadata": {},
   "outputs": [
    {
     "name": "stdout",
     "output_type": "stream",
     "text": [
      "\"Www.HackerRank.com → wWW.hACKERrANK.COM\"\n",
      "\"wWW.hACKERrANK.COM → Www.HackerRank.com\"\n"
     ]
    }
   ],
   "source": [
    "def swap_case(s):\n",
    "    lst = []\n",
    "    swapcase =[]\n",
    "    for i in s:\n",
    "        lst.append(i)\n",
    "    for i in lst:\n",
    "        if i.islower():\n",
    "            swapcase.append(i.upper())\n",
    "        elif i.isupper():\n",
    "            swapcase.append(i.lower())\n",
    "        else:\n",
    "            swapcase.append(i)\n",
    "    return (\"\".join(swapcase))\n",
    "\n",
    "if __name__ == '__main__':\n",
    "    s = input()\n",
    "    result = swap_case(s)\n",
    "    print(result)"
   ]
  },
  {
   "cell_type": "markdown",
   "metadata": {},
   "source": [
    "### Task 2 = String Split and Join"
   ]
  },
  {
   "cell_type": "code",
   "execution_count": 46,
   "metadata": {},
   "outputs": [
    {
     "name": "stdout",
     "output_type": "stream",
     "text": [
      "quick brown fox jumps over a lazy dog\n",
      "quick-brown-fox-jumps-over-a-lazy-dog\n"
     ]
    }
   ],
   "source": [
    "def split_and_join(line):\n",
    "    \n",
    "    # write your code here\n",
    "    line = line.split(\" \")\n",
    "    line = \"-\".join(line)\n",
    "    return line\n",
    "if __name__ == '__main__':\n",
    "    line = input()\n",
    "    result = split_and_join(line)\n",
    "    print(result)"
   ]
  },
  {
   "cell_type": "markdown",
   "metadata": {},
   "source": [
    "### Task 3- What's Your Name?"
   ]
  },
  {
   "cell_type": "code",
   "execution_count": 47,
   "metadata": {},
   "outputs": [
    {
     "name": "stdout",
     "output_type": "stream",
     "text": [
      "Achal\n",
      "Mate\n",
      "Hello Achal Mate! You just delved into python.\n"
     ]
    }
   ],
   "source": [
    "def print_full_name(first, last):\n",
    "    # Write your code here\n",
    "    print(\"Hello {} {}! You just delved into python.\".format(first,last))\n",
    "if __name__ == '__main__':\n",
    "    first_name = input()\n",
    "    last_name = input()\n",
    "    print_full_name(first_name, last_name)"
   ]
  },
  {
   "cell_type": "markdown",
   "metadata": {},
   "source": [
    "### Task 4 - Mutations"
   ]
  },
  {
   "cell_type": "code",
   "execution_count": 49,
   "metadata": {},
   "outputs": [
    {
     "name": "stdout",
     "output_type": "stream",
     "text": [
      "abrackdabra\n",
      "5 k\n",
      "abrackdabra\n"
     ]
    }
   ],
   "source": [
    "def mutate_string(string, position, character):\n",
    "    return string[:position]+character+string[position+1:]\n",
    "\n",
    "if __name__ == '__main__':\n",
    "    s = input()\n",
    "    i, c = input().split()\n",
    "    s_new = mutate_string(s, int(i), c)\n",
    "    print(s_new)"
   ]
  },
  {
   "cell_type": "markdown",
   "metadata": {},
   "source": [
    "### Task 5 -Find a string\n",
    "\n"
   ]
  },
  {
   "cell_type": "code",
   "execution_count": 50,
   "metadata": {},
   "outputs": [
    {
     "name": "stdout",
     "output_type": "stream",
     "text": [
      "ABCDCDC\n",
      "CDC\n",
      "2\n"
     ]
    }
   ],
   "source": [
    "def count_substring(string, sub_string):\n",
    "    count = 0\n",
    "    for i in range(len(string)):\n",
    "        if string[i:].startswith(sub_string):\n",
    "            count += 1\n",
    "    return count\n",
    "   \n",
    "if __name__ == '__main__':\n",
    "    string = input().strip()\n",
    "    sub_string = input().strip()\n",
    "    \n",
    "    count = count_substring(string, sub_string)\n",
    "    print(count)"
   ]
  },
  {
   "cell_type": "markdown",
   "metadata": {},
   "source": [
    "### Task 6 - String Validators"
   ]
  },
  {
   "cell_type": "code",
   "execution_count": 1,
   "metadata": {},
   "outputs": [
    {
     "name": "stdout",
     "output_type": "stream",
     "text": [
      "qA2\n",
      "True\n",
      "True\n",
      "True\n",
      "True\n",
      "True\n"
     ]
    }
   ],
   "source": [
    "\n",
    "if __name__ == '__main__':\n",
    "    s = input()\n",
    "    sa = list(s)\n",
    "    a,b,c,d,e=False,False,False,False,False\n",
    "    for i in sa:\n",
    "        if i.isalnum():\n",
    "            a = True\n",
    "    \n",
    "        if i.isalpha():\n",
    "            b = True\n",
    "        \n",
    "        if i.isnumeric():\n",
    "            c = True\n",
    "        \n",
    "        if i.islower():\n",
    "            d =  True\n",
    "        if i.isupper():\n",
    "            e = True\n",
    "    \n",
    " \n",
    " print(a)\n",
    "print(b)\n",
    "print(c)\n",
    "print(d)\n",
    "print(e)\n"
   ]
  },
  {
   "cell_type": "markdown",
   "metadata": {},
   "source": [
    "### Task 7 = Text Alignment"
   ]
  },
  {
   "cell_type": "code",
   "execution_count": 10,
   "metadata": {},
   "outputs": [
    {
     "name": "stdout",
     "output_type": "stream",
     "text": [
      "5\n",
      "    H    \n",
      "   HHH   \n",
      "  HHHHH  \n",
      " HHHHHHH \n",
      "HHHHHHHHH\n",
      "  HHHHH               HHHHH             \n",
      "  HHHHH               HHHHH             \n",
      "  HHHHH               HHHHH             \n",
      "  HHHHH               HHHHH             \n",
      "  HHHHH               HHHHH             \n",
      "  HHHHH               HHHHH             \n",
      "  HHHHHHHHHHHHHHHHHHHHHHHHH   \n",
      "  HHHHHHHHHHHHHHHHHHHHHHHHH   \n",
      "  HHHHHHHHHHHHHHHHHHHHHHHHH   \n",
      "  HHHHH               HHHHH             \n",
      "  HHHHH               HHHHH             \n",
      "  HHHHH               HHHHH             \n",
      "  HHHHH               HHHHH             \n",
      "  HHHHH               HHHHH             \n",
      "  HHHHH               HHHHH             \n",
      "                    HHHHHHHHH \n",
      "                     HHHHHHH  \n",
      "                      HHHHH   \n",
      "                       HHH    \n",
      "                        H     \n"
     ]
    }
   ],
   "source": [
    "#Replace all ______ with rjust, ljust or center. \n",
    "\n",
    "thickness = int(input()) #This must be an odd number\n",
    "c = 'H'\n",
    "\n",
    "#Top Cone\n",
    "for i in range(thickness):\n",
    "    print((c*i).rjust(thickness-1)+c+(c*i).ljust(thickness-1))\n",
    "\n",
    "#Top Pillars\n",
    "for i in range(thickness+1):\n",
    "    print((c*thickness).center(thickness*2)+(c*thickness).center(thickness*6))\n",
    "\n",
    "#Middle Belt\n",
    "for i in range((thickness+1)//2):\n",
    "    print((c*thickness*5).center(thickness*6))    \n",
    "\n",
    "#Bottom Pillars\n",
    "for i in range(thickness+1):\n",
    "    print((c*thickness).center(thickness*2)+(c*thickness).center(thickness*6))    \n",
    "\n",
    "#Bottom Cone\n",
    "for i in range(thickness):\n",
    "    print(((c*(thickness-i-1)).rjust(thickness)+c+(c*(thickness-i-1)).ljust(thickness)).rjust(thickness*6))\n"
   ]
  },
  {
   "cell_type": "markdown",
   "metadata": {},
   "source": [
    "### Task 8 = Text Wrap"
   ]
  },
  {
   "cell_type": "code",
   "execution_count": 12,
   "metadata": {},
   "outputs": [
    {
     "name": "stdout",
     "output_type": "stream",
     "text": [
      "ABCDEFGHIJKLIMNOQRSTUVWXYZ\n",
      "4\n",
      "ABCD\n",
      "EFGH\n",
      "IJKL\n",
      "IMNO\n",
      "QRST\n",
      "UVWX\n",
      "YZ\n"
     ]
    }
   ],
   "source": [
    "import textwrap\n",
    "\n",
    "def wrap(string, max_width):\n",
    "#    return \"\\n\".join(wrap(string,width=max_width))\n",
    "\n",
    "    return \"\\n\".join([string[i:i+max_width] for i in range(0, len(string), max_width)])\n",
    "\n",
    "if __name__ == '__main__':\n",
    "    string, max_width = input(), int(input())\n",
    "    result = wrap(string, max_width)\n",
    "    print(result)"
   ]
  },
  {
   "cell_type": "markdown",
   "metadata": {},
   "source": [
    "### Task 9 = Designer Door Mat"
   ]
  },
  {
   "cell_type": "code",
   "execution_count": 14,
   "metadata": {},
   "outputs": [
    {
     "name": "stdout",
     "output_type": "stream",
     "text": [
      "9 27\n",
      "------------.|.------------\n",
      "---------.|..|..|.---------\n",
      "------.|..|..|..|..|.------\n",
      "---.|..|..|..|..|..|..|.---\n",
      "----------WELCOME----------\n",
      "---.|..|..|..|..|..|..|.---\n",
      "------.|..|..|..|..|.------\n",
      "---------.|..|..|.---------\n",
      "------------.|.------------\n"
     ]
    }
   ],
   "source": [
    "N, M = map(int,input().split())\n",
    "for i in range(1,N,2): \n",
    "    print((i * \".|.\").center(M, \"-\"))\n",
    "print(\"WELCOME\".center(M,\"-\"))\n",
    "for i in range(N-2,-1,-2): \n",
    "    print((i * \".|.\").center(M, \"-\"))"
   ]
  },
  {
   "cell_type": "markdown",
   "metadata": {},
   "source": [
    "### Task 10 = String Formatting"
   ]
  },
  {
   "cell_type": "code",
   "execution_count": 15,
   "metadata": {},
   "outputs": [
    {
     "name": "stdout",
     "output_type": "stream",
     "text": [
      "17\n",
      "    1     1     1     1\n",
      "    2     2     2    10\n",
      "    3     3     3    11\n",
      "    4     4     4   100\n",
      "    5     5     5   101\n",
      "    6     6     6   110\n",
      "    7     7     7   111\n",
      "    8    10     8  1000\n",
      "    9    11     9  1001\n",
      "   10    12     A  1010\n",
      "   11    13     B  1011\n",
      "   12    14     C  1100\n",
      "   13    15     D  1101\n",
      "   14    16     E  1110\n",
      "   15    17     F  1111\n",
      "   16    20    10 10000\n",
      "   17    21    11 10001\n"
     ]
    }
   ],
   "source": [
    "n = int(input())\n",
    "\n",
    "results = []\n",
    "\n",
    "for i in range(1, n+1):\n",
    "    decimal = str(i)\n",
    "    octal = str(oct(i)[2:])\n",
    "    hex_ = str(hex(i)[2:]).upper()\n",
    "    binary = str(bin(i)[2:])\n",
    "\n",
    "    results.append([decimal, octal, hex_, binary])\n",
    "\n",
    "width = len(results[-1][3])  # largest binary number\n",
    "\n",
    "for i in results:\n",
    "    print(*(rep.rjust(width) for rep in i))"
   ]
  },
  {
   "cell_type": "markdown",
   "metadata": {},
   "source": [
    "### Task 11 = Alphabet Rangoli\n"
   ]
  },
  {
   "cell_type": "code",
   "execution_count": 17,
   "metadata": {},
   "outputs": [
    {
     "name": "stdout",
     "output_type": "stream",
     "text": [
      "12\n",
      "----------------------l----------------------\n",
      "--------------------l-k-l--------------------\n",
      "------------------l-k-j-k-l------------------\n",
      "----------------l-k-j-i-j-k-l----------------\n",
      "--------------l-k-j-i-h-i-j-k-l--------------\n",
      "------------l-k-j-i-h-g-h-i-j-k-l------------\n",
      "----------l-k-j-i-h-g-f-g-h-i-j-k-l----------\n",
      "--------l-k-j-i-h-g-f-e-f-g-h-i-j-k-l--------\n",
      "------l-k-j-i-h-g-f-e-d-e-f-g-h-i-j-k-l------\n",
      "----l-k-j-i-h-g-f-e-d-c-d-e-f-g-h-i-j-k-l----\n",
      "--l-k-j-i-h-g-f-e-d-c-b-c-d-e-f-g-h-i-j-k-l--\n",
      "l-k-j-i-h-g-f-e-d-c-b-a-b-c-d-e-f-g-h-i-j-k-l\n",
      "--l-k-j-i-h-g-f-e-d-c-b-c-d-e-f-g-h-i-j-k-l--\n",
      "----l-k-j-i-h-g-f-e-d-c-d-e-f-g-h-i-j-k-l----\n",
      "------l-k-j-i-h-g-f-e-d-e-f-g-h-i-j-k-l------\n",
      "--------l-k-j-i-h-g-f-e-f-g-h-i-j-k-l--------\n",
      "----------l-k-j-i-h-g-f-g-h-i-j-k-l----------\n",
      "------------l-k-j-i-h-g-h-i-j-k-l------------\n",
      "--------------l-k-j-i-h-i-j-k-l--------------\n",
      "----------------l-k-j-i-j-k-l----------------\n",
      "------------------l-k-j-k-l------------------\n",
      "--------------------l-k-l--------------------\n",
      "----------------------l----------------------\n"
     ]
    }
   ],
   "source": [
    "import string\n",
    "def print_rangoli(size):\n",
    "    # your code goes here\n",
    "    width = 4 * size - 3\n",
    "    alpha = string.ascii_lowercase\n",
    "    for i in list(range(size))[::-1] + list(range(1, size)):\n",
    "        print('-'.join(alpha[size-1:i:-1] + alpha[i:size]).center(width, '-'))\n",
    "\n",
    "if __name__ == '__main__':\n",
    "    n = int(input())\n",
    "    print_rangoli(n)"
   ]
  },
  {
   "cell_type": "code",
   "execution_count": 19,
   "metadata": {},
   "outputs": [
    {
     "data": {
      "text/plain": [
       "['hello', 'wrld']"
      ]
     },
     "execution_count": 19,
     "metadata": {},
     "output_type": "execute_result"
    }
   ],
   "source": [
    "s  = \"hello wrld\"\n",
    "s = s.split(\" \")\n",
    "s"
   ]
  },
  {
   "cell_type": "markdown",
   "metadata": {},
   "source": [
    "### Task 12 = Capitalize "
   ]
  },
  {
   "cell_type": "code",
   "execution_count": 22,
   "metadata": {},
   "outputs": [
    {
     "name": "stdout",
     "output_type": "stream",
     "text": [
      "hello world\n",
      "Hello World\n"
     ]
    }
   ],
   "source": [
    "def solve(s):\n",
    "    s = s.split(\" \")\n",
    "    demo = []\n",
    "    for i in s:\n",
    "        i = str(i)\n",
    "        demo.append(i.capitalize())\n",
    "    print(\" \".join(demo))\n",
    "if __name__ == '__main__':\n",
    "    s = input()\n",
    "\n",
    "    result = solve(s)\n"
   ]
  },
  {
   "cell_type": "markdown",
   "metadata": {},
   "source": [
    "### Task 13 = The Minion Game\n",
    "\n"
   ]
  },
  {
   "cell_type": "code",
   "execution_count": 23,
   "metadata": {},
   "outputs": [
    {
     "name": "stdout",
     "output_type": "stream",
     "text": [
      "BANANA\n",
      "Stuart 12\n"
     ]
    }
   ],
   "source": [
    "def minion_game(string):\n",
    "    vowel =['A','E','I','O','U']\n",
    "    S=0\n",
    "    K=0\n",
    "    for i in range(len(string)):\n",
    "        if string[i] in vowel:\n",
    "            K+= len(string)-i\n",
    "        else:\n",
    "            S+=len(string)-i\n",
    "    if S>K:\n",
    "        print(\"Stuart\"+\" \"+ \"%d\" % S)\n",
    "    elif K>S:\n",
    "        print(\"Kevin\"+\" \"+'%d' % K)\n",
    "    else:\n",
    "        print(\"Draw\")\n",
    "\n",
    "if __name__ == '__main__':\n",
    "    s = input()\n",
    "    minion_game(s)"
   ]
  },
  {
   "cell_type": "markdown",
   "metadata": {},
   "source": [
    "### Task 14 = Merge the Tools!\n",
    "\n"
   ]
  },
  {
   "cell_type": "code",
   "execution_count": 24,
   "metadata": {},
   "outputs": [
    {
     "name": "stdout",
     "output_type": "stream",
     "text": [
      "AABCAAADA\n",
      "3\n",
      "AB\n",
      "CA\n",
      "AD\n"
     ]
    }
   ],
   "source": [
    "def merge_the_tools(string, k):\n",
    "    # your code goes here\n",
    "    for i in range(0, len(string), k):\n",
    "        s = \"\"\n",
    "        for j in string[i : i + k]:\n",
    "            if j in s:\n",
    "                continue\n",
    "            else:\n",
    "                s += j          \n",
    "        print(s)\n",
    "if __name__ == '__main__':\n",
    "    string, k = input(), int(input())\n",
    "    merge_the_tools(string, k)"
   ]
  },
  {
   "cell_type": "code",
   "execution_count": null,
   "metadata": {},
   "outputs": [],
   "source": []
  }
 ],
 "metadata": {
  "kernelspec": {
   "display_name": "Python 3",
   "language": "python",
   "name": "python3"
  },
  "language_info": {
   "codemirror_mode": {
    "name": "ipython",
    "version": 3
   },
   "file_extension": ".py",
   "mimetype": "text/x-python",
   "name": "python",
   "nbconvert_exporter": "python",
   "pygments_lexer": "ipython3",
   "version": "3.8.5"
  }
 },
 "nbformat": 4,
 "nbformat_minor": 4
}
